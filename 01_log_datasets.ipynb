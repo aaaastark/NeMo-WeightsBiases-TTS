{
 "cells": [
  {
   "cell_type": "markdown",
   "id": "3d1b76f3-d4b0-4d9f-b8f4-2c23e3d635ae",
   "metadata": {},
   "source": [
    "# Download and Log data to W&B"
   ]
  },
  {
   "cell_type": "markdown",
   "id": "443aa4c8-9fce-4e26-a16d-e864743ef667",
   "metadata": {
    "id": "81fa2c02"
   },
   "source": [
    "For our tutorial, we will use a small part of the Hi-Fi Multi-Speaker English TTS (Hi-Fi TTS) dataset. You can read more about dataset [here](https://arxiv.org/abs/2104.01497). We will use speaker 9017 as the target speaker, and only a 5-minute subset of audio will be used for this fine-tuning example. We additionally resample audio to 22050 kHz."
   ]
  },
  {
   "cell_type": "code",
   "execution_count": 1,
   "id": "68e33bf9-03a8-4f60-8abe-71a6cfcdc587",
   "metadata": {},
   "outputs": [],
   "source": [
    "import wandb\n",
    "import json\n",
    "import pandas as pd"
   ]
  },
  {
   "cell_type": "code",
   "execution_count": 2,
   "id": "c7b94be3-4de9-484a-906f-c7dda4232b6f",
   "metadata": {},
   "outputs": [],
   "source": [
    "SPEAKER_ID = \"9017\"\n",
    "WANDB_PROJECT = \"tts-workshop\"\n",
    "WANDB_ENTITY = \"capecape\" # replace with your wandb username or team"
   ]
  },
  {
   "cell_type": "code",
   "execution_count": 3,
   "id": "637890c4-a89c-4c5e-9261-260fd96b805e",
   "metadata": {
    "id": "VIFgqxLOpxha"
   },
   "outputs": [
    {
     "name": "stdout",
     "output_type": "stream",
     "text": [
      "--2022-12-07 17:31:31--  https://multilangaudiosamples.s3.us-east-2.amazonaws.com/9017_5_mins.tar.gz\n",
      "Resolving multilangaudiosamples.s3.us-east-2.amazonaws.com (multilangaudiosamples.s3.us-east-2.amazonaws.com)... 3.5.129.143\n",
      "Connecting to multilangaudiosamples.s3.us-east-2.amazonaws.com (multilangaudiosamples.s3.us-east-2.amazonaws.com)|3.5.129.143|:443... connected.\n",
      "HTTP request sent, awaiting response... 200 OK\n",
      "Length: 10802737 (10M) [application/x-gzip]\n",
      "Saving to: ‘9017_5_mins.tar.gz.1’\n",
      "\n",
      "9017_5_mins.tar.gz. 100%[===================>]  10.30M  41.8MB/s    in 0.2s    \n",
      "\n",
      "2022-12-07 17:31:31 (41.8 MB/s) - ‘9017_5_mins.tar.gz.1’ saved [10802737/10802737]\n",
      "\n"
     ]
    }
   ],
   "source": [
    "!wget https://multilangaudiosamples.s3.us-east-2.amazonaws.com/\"{SPEAKER_ID}_5_mins.tar.gz\"  # Contains 10MB of data\n",
    "!tar -xzf \"{SPEAKER_ID}_5_mins.tar.gz\""
   ]
  },
  {
   "cell_type": "markdown",
   "id": "44653589-48d4-4819-973b-d38b9f65dd1e",
   "metadata": {
    "id": "gSQqq0fBqy8K"
   },
   "source": [
    "Looking at `manifest.json`, we see a standard NeMo json that contains the filepath, text, and duration. Please note that our `manifest.json` contains the relative path."
   ]
  },
  {
   "cell_type": "code",
   "execution_count": 4,
   "id": "7a939ba6-9327-4e1e-ab33-49a3607a9b06",
   "metadata": {},
   "outputs": [],
   "source": [
    "df = pd.read_json(f\"{SPEAKER_ID}_5_mins/manifest.json\", lines=True)"
   ]
  },
  {
   "cell_type": "code",
   "execution_count": 5,
   "id": "6a3de213-4df3-43ec-a6fc-5ecf0d31239c",
   "metadata": {},
   "outputs": [
    {
     "data": {
      "text/html": [
       "<div>\n",
       "<style scoped>\n",
       "    .dataframe tbody tr th:only-of-type {\n",
       "        vertical-align: middle;\n",
       "    }\n",
       "\n",
       "    .dataframe tbody tr th {\n",
       "        vertical-align: top;\n",
       "    }\n",
       "\n",
       "    .dataframe thead th {\n",
       "        text-align: right;\n",
       "    }\n",
       "</style>\n",
       "<table border=\"1\" class=\"dataframe\">\n",
       "  <thead>\n",
       "    <tr style=\"text-align: right;\">\n",
       "      <th></th>\n",
       "      <th>audio_filepath</th>\n",
       "      <th>text</th>\n",
       "      <th>duration</th>\n",
       "      <th>text_no_preprocessing</th>\n",
       "      <th>text_normalized</th>\n",
       "    </tr>\n",
       "  </thead>\n",
       "  <tbody>\n",
       "    <tr>\n",
       "      <th>0</th>\n",
       "      <td>audio/dartagnan03part1_027_dumas_0047.wav</td>\n",
       "      <td>yes monsieur</td>\n",
       "      <td>1.04</td>\n",
       "      <td>Yes, monsieur.</td>\n",
       "      <td>Yes, monsieur.</td>\n",
       "    </tr>\n",
       "    <tr>\n",
       "      <th>1</th>\n",
       "      <td>audio/dartagnan01_42_dumas_0220.wav</td>\n",
       "      <td>asked he in an undertone</td>\n",
       "      <td>1.66</td>\n",
       "      <td>asked he, in an undertone.</td>\n",
       "      <td>asked he, in an undertone.</td>\n",
       "    </tr>\n",
       "    <tr>\n",
       "      <th>2</th>\n",
       "      <td>audio/dartagnan01_38_dumas_0123.wav</td>\n",
       "      <td>grimaud entered</td>\n",
       "      <td>1.20</td>\n",
       "      <td>Grimaud entered.</td>\n",
       "      <td>Grimaud entered.</td>\n",
       "    </tr>\n",
       "    <tr>\n",
       "      <th>3</th>\n",
       "      <td>audio/dartagnan01_53_dumas_0059.wav</td>\n",
       "      <td>in the morning when they entered milady's cham...</td>\n",
       "      <td>3.70</td>\n",
       "      <td>In the morning, when they entered Milady's cha...</td>\n",
       "      <td>In the morning, when they entered Milady's cha...</td>\n",
       "    </tr>\n",
       "    <tr>\n",
       "      <th>4</th>\n",
       "      <td>audio/dartagnan03part3_66_dumas_0203.wav</td>\n",
       "      <td>yes monseigneur</td>\n",
       "      <td>1.42</td>\n",
       "      <td>“Yes, monseigneur.</td>\n",
       "      <td>Yes, monseigneur.</td>\n",
       "    </tr>\n",
       "  </tbody>\n",
       "</table>\n",
       "</div>"
      ],
      "text/plain": [
       "                              audio_filepath  \\\n",
       "0  audio/dartagnan03part1_027_dumas_0047.wav   \n",
       "1        audio/dartagnan01_42_dumas_0220.wav   \n",
       "2        audio/dartagnan01_38_dumas_0123.wav   \n",
       "3        audio/dartagnan01_53_dumas_0059.wav   \n",
       "4   audio/dartagnan03part3_66_dumas_0203.wav   \n",
       "\n",
       "                                                text  duration  \\\n",
       "0                                       yes monsieur      1.04   \n",
       "1                           asked he in an undertone      1.66   \n",
       "2                                    grimaud entered      1.20   \n",
       "3  in the morning when they entered milady's cham...      3.70   \n",
       "4                                    yes monseigneur      1.42   \n",
       "\n",
       "                               text_no_preprocessing  \\\n",
       "0                                     Yes, monsieur.   \n",
       "1                         asked he, in an undertone.   \n",
       "2                                   Grimaud entered.   \n",
       "3  In the morning, when they entered Milady's cha...   \n",
       "4                                 “Yes, monseigneur.   \n",
       "\n",
       "                                     text_normalized  \n",
       "0                                     Yes, monsieur.  \n",
       "1                         asked he, in an undertone.  \n",
       "2                                   Grimaud entered.  \n",
       "3  In the morning, when they entered Milady's cha...  \n",
       "4                                  Yes, monseigneur.  "
      ]
     },
     "execution_count": 5,
     "metadata": {},
     "output_type": "execute_result"
    }
   ],
   "source": [
    "df.head()"
   ]
  },
  {
   "cell_type": "markdown",
   "id": "6a68694c-957c-4de1-b8f1-6a6c1a6517e8",
   "metadata": {},
   "source": [
    "Let's log this raw data to W&B"
   ]
  },
  {
   "cell_type": "code",
   "execution_count": 6,
   "id": "cc668da7-b00d-4f02-9822-ebff2f594658",
   "metadata": {},
   "outputs": [
    {
     "name": "stderr",
     "output_type": "stream",
     "text": [
      "Failed to detect the name of this notebook, you can set it manually with the WANDB_NOTEBOOK_NAME environment variable to enable code saving.\n",
      "\u001b[34m\u001b[1mwandb\u001b[0m: Currently logged in as: \u001b[33mcapecape\u001b[0m. Use \u001b[1m`wandb login --relogin`\u001b[0m to force relogin\n"
     ]
    },
    {
     "data": {
      "text/html": [
       "wandb version 0.13.6 is available!  To upgrade, please run:\n",
       " $ pip install wandb --upgrade"
      ],
      "text/plain": [
       "<IPython.core.display.HTML object>"
      ]
     },
     "metadata": {},
     "output_type": "display_data"
    },
    {
     "data": {
      "text/html": [
       "Tracking run with wandb version 0.13.5"
      ],
      "text/plain": [
       "<IPython.core.display.HTML object>"
      ]
     },
     "metadata": {},
     "output_type": "display_data"
    },
    {
     "data": {
      "text/html": [
       "Run data is saved locally in <code>/home/tcapelle/wandb/nvidia-workshop/wandb/run-20221207_173133-xuty20ik</code>"
      ],
      "text/plain": [
       "<IPython.core.display.HTML object>"
      ]
     },
     "metadata": {},
     "output_type": "display_data"
    },
    {
     "data": {
      "text/html": [
       "Syncing run <strong><a href=\"https://wandb.ai/capecape/tts-workshop/runs/xuty20ik\" target=\"_blank\">comic-surf-1</a></strong> to <a href=\"https://wandb.ai/capecape/tts-workshop\" target=\"_blank\">Weights & Biases</a> (<a href=\"https://wandb.me/run\" target=\"_blank\">docs</a>)<br/>"
      ],
      "text/plain": [
       "<IPython.core.display.HTML object>"
      ]
     },
     "metadata": {},
     "output_type": "display_data"
    },
    {
     "data": {
      "text/html": [
       "<button onClick=\"this.nextSibling.style.display='block';this.style.display='none';\">Display W&B run</button><iframe src=\"https://wandb.ai/capecape/tts-workshop/runs/xuty20ik?jupyter=true\" style=\"border:none;width:100%;height:420px;display:none;\"></iframe>"
      ],
      "text/plain": [
       "<wandb.sdk.wandb_run.Run at 0x7f0b1612c0d0>"
      ]
     },
     "execution_count": 6,
     "metadata": {},
     "output_type": "execute_result"
    }
   ],
   "source": [
    "wandb.init(project=WANDB_PROJECT, entity=WANDB_ENTITY, job_type=\"log_dataset\", config={\"speaker_id\":SPEAKER_ID})"
   ]
  },
  {
   "cell_type": "code",
   "execution_count": 7,
   "id": "78133312-9913-438a-bdda-e3915a6ab09d",
   "metadata": {},
   "outputs": [],
   "source": [
    "at = wandb.Artifact(\"9017_5_mins\", type=\"dataset\", description=f\"Speaker {SPEAKER_ID} raw audio, 5 minutes lenght\")"
   ]
  },
  {
   "cell_type": "code",
   "execution_count": 8,
   "id": "07e24b61-6b7a-438e-9587-9236b9461379",
   "metadata": {},
   "outputs": [
    {
     "name": "stderr",
     "output_type": "stream",
     "text": [
      "\u001b[34m\u001b[1mwandb\u001b[0m: Adding directory to artifact (./9017_5_mins)... Done. 0.0s\n"
     ]
    }
   ],
   "source": [
    "at.add_dir(f\"{SPEAKER_ID}_5_mins\")"
   ]
  },
  {
   "cell_type": "code",
   "execution_count": 9,
   "id": "144dc20d-831b-4eaf-8190-ff6462b9d08d",
   "metadata": {},
   "outputs": [
    {
     "data": {
      "text/plain": [
       "<wandb.sdk.wandb_artifacts.Artifact at 0x7f0b158a2040>"
      ]
     },
     "execution_count": 9,
     "metadata": {},
     "output_type": "execute_result"
    }
   ],
   "source": [
    "wandb.log_artifact(at)"
   ]
  },
  {
   "cell_type": "code",
   "execution_count": 10,
   "id": "6ced4231-e615-4155-8826-08a92adcba0c",
   "metadata": {},
   "outputs": [
    {
     "data": {
      "text/html": [
       "Waiting for W&B process to finish... <strong style=\"color:green\">(success).</strong>"
      ],
      "text/plain": [
       "<IPython.core.display.HTML object>"
      ]
     },
     "metadata": {},
     "output_type": "display_data"
    },
    {
     "data": {
      "text/html": [
       "Synced <strong style=\"color:#cdcd00\">comic-surf-1</strong>: <a href=\"https://wandb.ai/capecape/tts-workshop/runs/xuty20ik\" target=\"_blank\">https://wandb.ai/capecape/tts-workshop/runs/xuty20ik</a><br/>Synced 6 W&B file(s), 0 media file(s), 79 artifact file(s) and 0 other file(s)"
      ],
      "text/plain": [
       "<IPython.core.display.HTML object>"
      ]
     },
     "metadata": {},
     "output_type": "display_data"
    },
    {
     "data": {
      "text/html": [
       "Find logs at: <code>./wandb/run-20221207_173133-xuty20ik/logs</code>"
      ],
      "text/plain": [
       "<IPython.core.display.HTML object>"
      ]
     },
     "metadata": {},
     "output_type": "display_data"
    }
   ],
   "source": [
    "wandb.finish()"
   ]
  },
  {
   "cell_type": "markdown",
   "id": "56ec04f1-e9d2-4cc4-918f-e282b2dfc5ff",
   "metadata": {},
   "source": [
    "### Train/Val split"
   ]
  },
  {
   "cell_type": "markdown",
   "id": "d37f9069-4d95-4929-878d-a7ebf1d2b916",
   "metadata": {},
   "source": [
    "Let's take 2 samples from the dataset and split it off into a validation set. Then, split all other samples into the training set.\n",
    "\n",
    "As mentioned, since the paths in the manifest are relative, we also create a symbolic link to the audio folder such that `audio/` goes to the correct directory."
   ]
  },
  {
   "cell_type": "code",
   "execution_count": 11,
   "id": "5cfce83e-39c5-4088-a0fc-1dc401c2b703",
   "metadata": {
    "id": "B8gVfp5SsuDd"
   },
   "outputs": [],
   "source": [
    "!cat ./{SPEAKER_ID}_5_mins/manifest.json | tail -n 2 > ./{SPEAKER_ID}_manifest_valid_local.json\n",
    "!cat ./{SPEAKER_ID}_5_mins/manifest.json | head -n -2 > ./{SPEAKER_ID}_manifest_train_local.json\n",
    "!ln -s ./{SPEAKER_ID}_5_mins/audio audio"
   ]
  },
  {
   "cell_type": "markdown",
   "id": "9e93d72f-d1fb-4db9-b3c8-e066c226c9ea",
   "metadata": {},
   "source": [
    "Let's log the split files to W&B"
   ]
  },
  {
   "cell_type": "code",
   "execution_count": 12,
   "id": "c8b3f582-dff9-414a-9406-af0743f49e5c",
   "metadata": {},
   "outputs": [
    {
     "data": {
      "text/html": [
       "wandb version 0.13.6 is available!  To upgrade, please run:\n",
       " $ pip install wandb --upgrade"
      ],
      "text/plain": [
       "<IPython.core.display.HTML object>"
      ]
     },
     "metadata": {},
     "output_type": "display_data"
    },
    {
     "data": {
      "text/html": [
       "Tracking run with wandb version 0.13.5"
      ],
      "text/plain": [
       "<IPython.core.display.HTML object>"
      ]
     },
     "metadata": {},
     "output_type": "display_data"
    },
    {
     "data": {
      "text/html": [
       "Run data is saved locally in <code>/home/tcapelle/wandb/nvidia-workshop/wandb/run-20221207_173145-48aqo2dm</code>"
      ],
      "text/plain": [
       "<IPython.core.display.HTML object>"
      ]
     },
     "metadata": {},
     "output_type": "display_data"
    },
    {
     "data": {
      "text/html": [
       "Syncing run <strong><a href=\"https://wandb.ai/capecape/tts-workshop/runs/48aqo2dm\" target=\"_blank\">fragrant-yogurt-2</a></strong> to <a href=\"https://wandb.ai/capecape/tts-workshop\" target=\"_blank\">Weights & Biases</a> (<a href=\"https://wandb.me/run\" target=\"_blank\">docs</a>)<br/>"
      ],
      "text/plain": [
       "<IPython.core.display.HTML object>"
      ]
     },
     "metadata": {},
     "output_type": "display_data"
    }
   ],
   "source": [
    "run = wandb.init(project=WANDB_PROJECT, entity=WANDB_ENTITY,  job_type=\"dataset_split\", config={\"speaker_id\":SPEAKER_ID})"
   ]
  },
  {
   "cell_type": "code",
   "execution_count": 13,
   "id": "3e109301-c432-4799-a597-703087d1df65",
   "metadata": {},
   "outputs": [
    {
     "data": {
      "text/plain": [
       "<Artifact QXJ0aWZhY3Q6Mjk0NzgyOTAz>"
      ]
     },
     "execution_count": 13,
     "metadata": {},
     "output_type": "execute_result"
    }
   ],
   "source": [
    "run.use_artifact(f'{WANDB_ENTITY}/{WANDB_PROJECT}/9017_5_mins:v0', type='dataset')"
   ]
  },
  {
   "cell_type": "code",
   "execution_count": 14,
   "id": "c85f90f5-0d09-4ec3-812d-39db7c480f38",
   "metadata": {},
   "outputs": [],
   "source": [
    "at = wandb.Artifact(\"9017_5_split\", type=\"dataset_split\", description=f\"Train/valid split for Speaker {SPEAKER_ID} raw audio, 5 minutes lenght\")"
   ]
  },
  {
   "cell_type": "code",
   "execution_count": 15,
   "id": "e89f111d-e3e7-4b84-9707-830d602e158b",
   "metadata": {},
   "outputs": [
    {
     "data": {
      "text/plain": [
       "<ManifestEntry digest: J1QARzpwdQAMf2fk8j9CYQ==>"
      ]
     },
     "execution_count": 15,
     "metadata": {},
     "output_type": "execute_result"
    }
   ],
   "source": [
    "at.add_file(f\"./{SPEAKER_ID}_manifest_train_local.json\")\n",
    "at.add_file(f\"./{SPEAKER_ID}_manifest_valid_local.json\")"
   ]
  },
  {
   "cell_type": "code",
   "execution_count": 16,
   "id": "737efca1-78f3-4704-988f-d3a8cbe63ae2",
   "metadata": {},
   "outputs": [
    {
     "data": {
      "text/plain": [
       "<wandb.sdk.wandb_artifacts.Artifact at 0x7f0b1483e6d0>"
      ]
     },
     "execution_count": 16,
     "metadata": {},
     "output_type": "execute_result"
    }
   ],
   "source": [
    "wandb.log_artifact(at)"
   ]
  },
  {
   "cell_type": "markdown",
   "id": "c1f0a6c9-3e07-4204-855f-ba05281e5cd8",
   "metadata": {},
   "source": [
    "## 👀 Visualizing the dataset (or playing the audio 🤣)"
   ]
  },
  {
   "cell_type": "markdown",
   "id": "65b8c0ef-f538-4cd5-ad13-dd0a27bf74d7",
   "metadata": {},
   "source": [
    "Let's create a W&B Table to inspect these files"
   ]
  },
  {
   "cell_type": "code",
   "execution_count": 17,
   "id": "d91fd363-203a-4439-8085-777fd467d2e6",
   "metadata": {},
   "outputs": [
    {
     "data": {
      "text/html": [
       "<div>\n",
       "<style scoped>\n",
       "    .dataframe tbody tr th:only-of-type {\n",
       "        vertical-align: middle;\n",
       "    }\n",
       "\n",
       "    .dataframe tbody tr th {\n",
       "        vertical-align: top;\n",
       "    }\n",
       "\n",
       "    .dataframe thead th {\n",
       "        text-align: right;\n",
       "    }\n",
       "</style>\n",
       "<table border=\"1\" class=\"dataframe\">\n",
       "  <thead>\n",
       "    <tr style=\"text-align: right;\">\n",
       "      <th></th>\n",
       "      <th>audio_filepath</th>\n",
       "      <th>text</th>\n",
       "      <th>duration</th>\n",
       "      <th>text_no_preprocessing</th>\n",
       "      <th>text_normalized</th>\n",
       "    </tr>\n",
       "  </thead>\n",
       "  <tbody>\n",
       "    <tr>\n",
       "      <th>0</th>\n",
       "      <td>audio/dartagnan03part1_027_dumas_0047.wav</td>\n",
       "      <td>yes monsieur</td>\n",
       "      <td>1.04</td>\n",
       "      <td>Yes, monsieur.</td>\n",
       "      <td>Yes, monsieur.</td>\n",
       "    </tr>\n",
       "    <tr>\n",
       "      <th>1</th>\n",
       "      <td>audio/dartagnan01_42_dumas_0220.wav</td>\n",
       "      <td>asked he in an undertone</td>\n",
       "      <td>1.66</td>\n",
       "      <td>asked he, in an undertone.</td>\n",
       "      <td>asked he, in an undertone.</td>\n",
       "    </tr>\n",
       "    <tr>\n",
       "      <th>2</th>\n",
       "      <td>audio/dartagnan01_38_dumas_0123.wav</td>\n",
       "      <td>grimaud entered</td>\n",
       "      <td>1.20</td>\n",
       "      <td>Grimaud entered.</td>\n",
       "      <td>Grimaud entered.</td>\n",
       "    </tr>\n",
       "    <tr>\n",
       "      <th>3</th>\n",
       "      <td>audio/dartagnan01_53_dumas_0059.wav</td>\n",
       "      <td>in the morning when they entered milady's cham...</td>\n",
       "      <td>3.70</td>\n",
       "      <td>In the morning, when they entered Milady's cha...</td>\n",
       "      <td>In the morning, when they entered Milady's cha...</td>\n",
       "    </tr>\n",
       "    <tr>\n",
       "      <th>4</th>\n",
       "      <td>audio/dartagnan03part3_66_dumas_0203.wav</td>\n",
       "      <td>yes monseigneur</td>\n",
       "      <td>1.42</td>\n",
       "      <td>“Yes, monseigneur.</td>\n",
       "      <td>Yes, monseigneur.</td>\n",
       "    </tr>\n",
       "    <tr>\n",
       "      <th>...</th>\n",
       "      <td>...</td>\n",
       "      <td>...</td>\n",
       "      <td>...</td>\n",
       "      <td>...</td>\n",
       "      <td>...</td>\n",
       "    </tr>\n",
       "    <tr>\n",
       "      <th>71</th>\n",
       "      <td>audio/dartagnan03part3_09_dumas_0218.wav</td>\n",
       "      <td>and so you are determined to sign the sale of ...</td>\n",
       "      <td>8.76</td>\n",
       "      <td>“And so you are determined to sign the sale of...</td>\n",
       "      <td>And so you are determined to sign the sale of ...</td>\n",
       "    </tr>\n",
       "    <tr>\n",
       "      <th>72</th>\n",
       "      <td>audio/dartagnan01_62_dumas_0190.wav</td>\n",
       "      <td>what</td>\n",
       "      <td>0.58</td>\n",
       "      <td>“What?”</td>\n",
       "      <td>\"What?\"</td>\n",
       "    </tr>\n",
       "    <tr>\n",
       "      <th>73</th>\n",
       "      <td>audio/dartagnan01_33_dumas_0018.wav</td>\n",
       "      <td>well what is to be done</td>\n",
       "      <td>1.90</td>\n",
       "      <td>“Well, what is to be done?”</td>\n",
       "      <td>\"Well, what is to be done?\"</td>\n",
       "    </tr>\n",
       "    <tr>\n",
       "      <th>74</th>\n",
       "      <td>audio/dartagnan03part3_62_dumas_0243.wav</td>\n",
       "      <td>said grimaud addressing athos and pointing to ...</td>\n",
       "      <td>7.88</td>\n",
       "      <td>said Grimaud, addressing Athos and pointing to...</td>\n",
       "      <td>said Grimaud, addressing Athos and pointing to...</td>\n",
       "    </tr>\n",
       "    <tr>\n",
       "      <th>75</th>\n",
       "      <td>audio/dartagnan03part1_094_dumas_0124.wav</td>\n",
       "      <td>i am captain of the musketeers</td>\n",
       "      <td>2.00</td>\n",
       "      <td>I am captain of the musketeers;</td>\n",
       "      <td>I am captain of the musketeers;</td>\n",
       "    </tr>\n",
       "  </tbody>\n",
       "</table>\n",
       "<p>76 rows × 5 columns</p>\n",
       "</div>"
      ],
      "text/plain": [
       "                               audio_filepath  \\\n",
       "0   audio/dartagnan03part1_027_dumas_0047.wav   \n",
       "1         audio/dartagnan01_42_dumas_0220.wav   \n",
       "2         audio/dartagnan01_38_dumas_0123.wav   \n",
       "3         audio/dartagnan01_53_dumas_0059.wav   \n",
       "4    audio/dartagnan03part3_66_dumas_0203.wav   \n",
       "..                                        ...   \n",
       "71   audio/dartagnan03part3_09_dumas_0218.wav   \n",
       "72        audio/dartagnan01_62_dumas_0190.wav   \n",
       "73        audio/dartagnan01_33_dumas_0018.wav   \n",
       "74   audio/dartagnan03part3_62_dumas_0243.wav   \n",
       "75  audio/dartagnan03part1_094_dumas_0124.wav   \n",
       "\n",
       "                                                 text  duration  \\\n",
       "0                                        yes monsieur      1.04   \n",
       "1                            asked he in an undertone      1.66   \n",
       "2                                     grimaud entered      1.20   \n",
       "3   in the morning when they entered milady's cham...      3.70   \n",
       "4                                     yes monseigneur      1.42   \n",
       "..                                                ...       ...   \n",
       "71  and so you are determined to sign the sale of ...      8.76   \n",
       "72                                               what      0.58   \n",
       "73                            well what is to be done      1.90   \n",
       "74  said grimaud addressing athos and pointing to ...      7.88   \n",
       "75                     i am captain of the musketeers      2.00   \n",
       "\n",
       "                                text_no_preprocessing  \\\n",
       "0                                      Yes, monsieur.   \n",
       "1                          asked he, in an undertone.   \n",
       "2                                    Grimaud entered.   \n",
       "3   In the morning, when they entered Milady's cha...   \n",
       "4                                  “Yes, monseigneur.   \n",
       "..                                                ...   \n",
       "71  “And so you are determined to sign the sale of...   \n",
       "72                                            “What?”   \n",
       "73                        “Well, what is to be done?”   \n",
       "74  said Grimaud, addressing Athos and pointing to...   \n",
       "75                    I am captain of the musketeers;   \n",
       "\n",
       "                                      text_normalized  \n",
       "0                                      Yes, monsieur.  \n",
       "1                          asked he, in an undertone.  \n",
       "2                                    Grimaud entered.  \n",
       "3   In the morning, when they entered Milady's cha...  \n",
       "4                                   Yes, monseigneur.  \n",
       "..                                                ...  \n",
       "71  And so you are determined to sign the sale of ...  \n",
       "72                                            \"What?\"  \n",
       "73                        \"Well, what is to be done?\"  \n",
       "74  said Grimaud, addressing Athos and pointing to...  \n",
       "75                    I am captain of the musketeers;  \n",
       "\n",
       "[76 rows x 5 columns]"
      ]
     },
     "execution_count": 17,
     "metadata": {},
     "output_type": "execute_result"
    }
   ],
   "source": [
    "train_df = pd.read_json(f\"{SPEAKER_ID}_manifest_train_local.json\", lines=True)\n",
    "train_df"
   ]
  },
  {
   "cell_type": "markdown",
   "id": "87bfc836-d29e-4a4b-923c-a8f49c7648a8",
   "metadata": {},
   "source": [
    "create a `wandb.Table` from a `DataFrame`\n",
    "- We need to convert the audio files paths to `wandb.Audio` objects"
   ]
  },
  {
   "cell_type": "code",
   "execution_count": 18,
   "id": "10fe14ab-36d4-4e93-91c8-660ab9838699",
   "metadata": {},
   "outputs": [],
   "source": [
    "train_df.audio_filepath = train_df.audio_filepath.apply(wandb.Audio)"
   ]
  },
  {
   "cell_type": "code",
   "execution_count": 19,
   "id": "ff094ecc-7718-4390-b4bc-7875ab241eb2",
   "metadata": {},
   "outputs": [],
   "source": [
    "train_table = wandb.Table(dataframe=train_df)"
   ]
  },
  {
   "cell_type": "code",
   "execution_count": 20,
   "id": "06769e06-b3df-477a-86a4-12efa125f678",
   "metadata": {},
   "outputs": [],
   "source": [
    "wandb.log({\"train_data\": train_table})"
   ]
  },
  {
   "cell_type": "markdown",
   "id": "2efa32c6-66da-4f47-b60a-63d4472fa7a7",
   "metadata": {},
   "source": [
    "We can do the same with the validation data:"
   ]
  },
  {
   "cell_type": "code",
   "execution_count": 21,
   "id": "b1475740-8817-4bad-ba31-1ce86d68655e",
   "metadata": {},
   "outputs": [],
   "source": [
    "valid_df = pd.read_json(f\"{SPEAKER_ID}_manifest_valid_local.json\", lines=True)\n",
    "valid_df.audio_filepath = valid_df.audio_filepath.apply(wandb.Audio)\n",
    "valid_table = wandb.Table(dataframe=valid_df)"
   ]
  },
  {
   "cell_type": "code",
   "execution_count": 22,
   "id": "6b32ff7c-4ff8-46c0-a9e1-adc8e19acd98",
   "metadata": {},
   "outputs": [],
   "source": [
    "wandb.log({\"valid_data\": valid_table})"
   ]
  },
  {
   "cell_type": "code",
   "execution_count": 23,
   "id": "055f6d6b-2aab-4501-824c-04295929c4ad",
   "metadata": {},
   "outputs": [
    {
     "data": {
      "text/html": [
       "Waiting for W&B process to finish... <strong style=\"color:green\">(success).</strong>"
      ],
      "text/plain": [
       "<IPython.core.display.HTML object>"
      ]
     },
     "metadata": {},
     "output_type": "display_data"
    },
    {
     "name": "stderr",
     "output_type": "stream",
     "text": [
      "wandb: Network error (ConnectTimeout), entering retry loop.\n"
     ]
    },
    {
     "data": {
      "text/html": [
       "Synced <strong style=\"color:#cdcd00\">fragrant-yogurt-2</strong>: <a href=\"https://wandb.ai/capecape/tts-workshop/runs/48aqo2dm\" target=\"_blank\">https://wandb.ai/capecape/tts-workshop/runs/48aqo2dm</a><br/>Synced 5 W&B file(s), 2 media file(s), 82 artifact file(s) and 0 other file(s)"
      ],
      "text/plain": [
       "<IPython.core.display.HTML object>"
      ]
     },
     "metadata": {},
     "output_type": "display_data"
    },
    {
     "data": {
      "text/html": [
       "Find logs at: <code>./wandb/run-20221207_173145-48aqo2dm/logs</code>"
      ],
      "text/plain": [
       "<IPython.core.display.HTML object>"
      ]
     },
     "metadata": {},
     "output_type": "display_data"
    }
   ],
   "source": [
    "wandb.finish()"
   ]
  }
 ],
 "metadata": {
  "kernelspec": {
   "display_name": "Python 3 (ipykernel)",
   "language": "python",
   "name": "python3"
  },
  "language_info": {
   "codemirror_mode": {
    "name": "ipython",
    "version": 3
   },
   "file_extension": ".py",
   "mimetype": "text/x-python",
   "name": "python",
   "nbconvert_exporter": "python",
   "pygments_lexer": "ipython3",
   "version": "3.9.15"
  }
 },
 "nbformat": 4,
 "nbformat_minor": 5
}
